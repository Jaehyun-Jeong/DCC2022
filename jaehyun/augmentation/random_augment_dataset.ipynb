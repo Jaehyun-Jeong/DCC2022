{
 "cells": [
  {
   "cell_type": "code",
   "execution_count": 1,
   "id": "429b4875-e300-4c06-85af-add50b513fd6",
   "metadata": {},
   "outputs": [],
   "source": [
    "import torch\n",
    "import torchvision.transforms as transforms\n",
    "from torchvision.transforms.functional import rotate\n",
    "from torchvision.utils import save_image\n",
    "\n",
    "# Use my class\n",
    "import sys\n",
    "sys.path.append(\"../\")\n",
    "from load import Load"
   ]
  },
  {
   "cell_type": "code",
   "execution_count": 2,
   "id": "3e395bc4-48fd-4ade-97b2-c34472541467",
   "metadata": {},
   "outputs": [],
   "source": [
    "transformer = [\n",
    "    transforms.ToTensor()]\n",
    "\n",
    "Loader  = Load(transformer)\n",
    "dataset, _ = Loader(\"..\\\\final_dataset\\\\train\\\\\")\n",
    "classes = list(dataset.class_to_idx.keys())"
   ]
  },
  {
   "cell_type": "code",
   "execution_count": 3,
   "id": "76ab8ab4-264c-4387-9e7c-92fb82e8c443",
   "metadata": {},
   "outputs": [],
   "source": [
    "class_len_dict = {}\n",
    "for class_name in classes:\n",
    "    class_idx = dataset.class_to_idx[class_name]\n",
    "    class_len = len([\n",
    "        idx for idx, target_idx in enumerate(dataset.targets)\n",
    "        if target_idx == class_idx])\n",
    "    class_len_dict[class_name] = class_len\n",
    "    \n",
    "max_class_len = max(list(class_len_dict.values()))"
   ]
  },
  {
   "cell_type": "code",
   "execution_count": 4,
   "id": "e9ad9bc8-8d14-4c2c-9531-9b721d3587d1",
   "metadata": {},
   "outputs": [
    {
     "name": "stdout",
     "output_type": "stream",
     "text": [
      "{'L2_10': 2, 'L2_12': 6, 'L2_15': 3, 'L2_20': 6, 'L2_21': 6, 'L2_24': 6, 'L2_25': 0, 'L2_27': 6, 'L2_3': 6, 'L2_30': 6, 'L2_33': 0, 'L2_34': 6, 'L2_39': 6, 'L2_40': 6, 'L2_41': 6, 'L2_44': 6, 'L2_45': 6, 'L2_46': 1, 'L2_50': 6, 'L2_52': 6}\n"
     ]
    }
   ],
   "source": [
    "import math\n",
    "\n",
    "max_agmt_num = 7  # below 7 times data multiplying available\n",
    "\n",
    "agmt_num_dict = {}\n",
    "for class_name in classes:\n",
    "    agmt_num = max_class_len // class_len_dict[class_name]\n",
    "    if agmt_num > max_agmt_num:\n",
    "        agmt_num_dict[class_name] = max_agmt_num-1\n",
    "    else:\n",
    "        agmt_num_dict[class_name] = agmt_num-1\n",
    "        \n",
    "print(agmt_num_dict)"
   ]
  },
  {
   "cell_type": "code",
   "execution_count": 5,
   "id": "e0bb6887-a6d0-4d4c-9efb-6272186823ca",
   "metadata": {},
   "outputs": [],
   "source": [
    "agmt_dict = {\n",
    "    'L2_10': [('rotate', 0), ('random', agmt_num_dict['L2_10'])],\n",
    "    'L2_12': [('rotate', 0), ('random', agmt_num_dict['L2_12'])],\n",
    "    'L2_15': [('rotate', 0), ('random', agmt_num_dict['L2_15'])],\n",
    "    'L2_20': [('rotate', 0), ('random', agmt_num_dict['L2_20'])],\n",
    "    'L2_21': [('rotate', 0), ('random', agmt_num_dict['L2_21'])],\n",
    "    'L2_24': [('rotate', 0), ('random', agmt_num_dict['L2_24'])],\n",
    "    'L2_25': [('rotate', 0)],\n",
    "    'L2_27': [('rotate', 0), ('random', agmt_num_dict['L2_27'])],\n",
    "    'L2_3': [('rotate', 0), ('random', agmt_num_dict['L2_3'])],\n",
    "    'L2_30': [('rotate', 0), ('random', agmt_num_dict['L2_30'])],\n",
    "    'L2_33': [('rotate', 0)],\n",
    "    'L2_34': [('rotate', 0), ('random', agmt_num_dict['L2_34'])],\n",
    "    'L2_39': [('rotate', 0), ('random', agmt_num_dict['L2_39'])],\n",
    "    'L2_40': [('rotate', 0), ('random', agmt_num_dict['L2_40'])],\n",
    "    'L2_41': [('rotate', 0), ('random', agmt_num_dict['L2_41'])],\n",
    "    'L2_44': [('rotate', 0), ('random', agmt_num_dict['L2_44'])],\n",
    "    'L2_45': [('rotate', 0), ('random', agmt_num_dict['L2_45'])],\n",
    "    'L2_46': [('rotate', 0), ('random', agmt_num_dict['L2_46'])],\n",
    "    'L2_50': [('rotate', 0), ('random', agmt_num_dict['L2_50'])],\n",
    "    'L2_52': [('rotate', 0), ('random', agmt_num_dict['L2_52'])],\n",
    "}"
   ]
  },
  {
   "cell_type": "code",
   "execution_count": 6,
   "id": "c3271cb1-4bda-4c48-b915-957d84fe375f",
   "metadata": {},
   "outputs": [],
   "source": [
    "import os\n",
    "\n",
    "save_path = \"..\\\\random_augmented_dataset\\\\train\\\\\"\n",
    "\n",
    "def augment_data(dataset, agmt_dict):\n",
    "\n",
    "    for class_name in list(agmt_dict.keys()):\n",
    "        # make subdirectory(class)\n",
    "        os.makedirs(os.path.dirname(save_path + class_name + \"\\\\\"), exist_ok=True)\n",
    "        \n",
    "        class_idx = dataset.class_to_idx[class_name]\n",
    "        class_idx_list = [\n",
    "            idx for idx, target_idx in enumerate(dataset.targets)\n",
    "            if target_idx == class_idx]\n",
    "\n",
    "        for idx, data_idx in enumerate(class_idx_list):\n",
    "            filename, _ = dataset.imgs[data_idx]\n",
    "            \n",
    "            data = dataset[data_idx][0]\n",
    "            if class_name in list(agmt_dict.keys()):\n",
    "                save_augment_data(data, agmt_dict[class_name], class_name, filename, save_path)"
   ]
  },
  {
   "cell_type": "code",
   "execution_count": 7,
   "id": "87b5b9f1-797d-4ff5-82fc-d62c4d67af57",
   "metadata": {},
   "outputs": [],
   "source": [
    "random_transforms = transforms.RandomApply(torch.nn.ModuleList([\n",
    "    transforms.ColorJitter(),\n",
    "    transforms.GaussianBlur(kernel_size=(5, 9)),\n",
    "    transforms.RandomPerspective(),\n",
    "    transforms.RandomRotation(degrees=(0, 180)),\n",
    "    transforms.RandomAffine(degrees=(0, 180)),\n",
    "    transforms.RandomInvert()\n",
    "    ]), p=1)\n",
    "\n",
    "import os.path\n",
    "\n",
    "def save_augment_data(image, agmt_list, class_name, filename, path):\n",
    "    for agmt in agmt_list:\n",
    "        agmt_name, param = agmt\n",
    "        \n",
    "        if agmt_name == 'rotate' and not os.path.isfile(path + class_name + f\"\\\\rotate_{str(param)}_\" + filename.split(\"\\\\\")[-1]):\n",
    "            agmt_data = rotate(image, param)\n",
    "            save_image(agmt_data, path + class_name + f\"\\\\rotate_{str(param)}_\" + filename.split(\"\\\\\")[-1])\n",
    "        elif agmt_name == 'random':\n",
    "            for agmt_idx in range(param):\n",
    "                if not os.path.isfile(path + class_name + f\"\\\\random_{agmt_idx}_\" + filename.split(\"\\\\\")[-1]):\n",
    "                    agmt_data = random_transforms(image)\n",
    "                    save_image(agmt_data, path + class_name + f\"\\\\random_{agmt_idx}_\" + filename.split(\"\\\\\")[-1])"
   ]
  },
  {
   "cell_type": "code",
   "execution_count": null,
   "id": "4856dc39-14f4-4c2f-8680-78bb2e0d2d56",
   "metadata": {},
   "outputs": [
    {
     "name": "stderr",
     "output_type": "stream",
     "text": [
      "D:\\programs\\Anaconda\\envs\\RL_module\\lib\\site-packages\\PIL\\Image.py:959: UserWarning: Palette images with Transparency expressed in bytes should be converted to RGBA images\n",
      "  warnings.warn(\n"
     ]
    }
   ],
   "source": [
    "augment_data(dataset, agmt_dict)"
   ]
  },
  {
   "cell_type": "code",
   "execution_count": null,
   "id": "beb60e77-893f-41e4-b804-88ceaf13222e",
   "metadata": {},
   "outputs": [],
   "source": [
    "from os import listdir\n",
    "import pandas as pd\n",
    "import matplotlib.pyplot as plt\n",
    "\n",
    "def draw_class_barplot(\n",
    "    path: str,\n",
    "    title: str):\n",
    "    \n",
    "    dir_list = listdir(path)\n",
    "\n",
    "    classLenLst = []\n",
    "    for class_name in dir_list:\n",
    "        classLenLst.append(len(listdir(path+class_name)))\n",
    "\n",
    "    df_dict = dict()\n",
    "    df_dict[\"name\"] = dir_list\n",
    "    df_dict[\"count\"] = classLenLst\n",
    "\n",
    "    df= pd.DataFrame(df_dict)\n",
    "\n",
    "    plt.figure(figsize=(100,100))\n",
    "    df.plot(kind=\"bar\", x='name', y='count')\n",
    "    plt.xlabel(\"class name\")\n",
    "    plt.ylabel(\"count\")\n",
    "    plt.title(title)\n",
    "\n",
    "    return df"
   ]
  },
  {
   "cell_type": "code",
   "execution_count": null,
   "id": "131c410b-4ee3-40de-8fc5-496bce0bdc8e",
   "metadata": {},
   "outputs": [],
   "source": [
    "df = draw_class_barplot(r'..\\\\random_augmented_dataset\\\\train\\\\', 'random_augmented_dataset')\n",
    "\n",
    "print(f\"전체 데이터의 수: {df['count'].sum(0)}\")"
   ]
  }
 ],
 "metadata": {
  "kernelspec": {
   "display_name": "Python 3 (ipykernel)",
   "language": "python",
   "name": "python3"
  },
  "language_info": {
   "codemirror_mode": {
    "name": "ipython",
    "version": 3
   },
   "file_extension": ".py",
   "mimetype": "text/x-python",
   "name": "python",
   "nbconvert_exporter": "python",
   "pygments_lexer": "ipython3",
   "version": "3.9.12"
  }
 },
 "nbformat": 4,
 "nbformat_minor": 5
}
