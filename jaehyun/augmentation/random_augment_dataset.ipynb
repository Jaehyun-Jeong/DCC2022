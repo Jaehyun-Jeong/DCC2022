{
 "cells": [
  {
   "cell_type": "code",
   "execution_count": 1,
   "id": "429b4875-e300-4c06-85af-add50b513fd6",
   "metadata": {},
   "outputs": [],
   "source": [
    "import torch\n",
    "import torchvision.transforms as transforms\n",
    "from torchvision.transforms.functional import rotate\n",
    "from torchvision.utils import save_image\n",
    "\n",
    "# Use my class\n",
    "import sys\n",
    "sys.path.append(\"../\")\n",
    "from load import Load"
   ]
  },
  {
   "cell_type": "code",
   "execution_count": null,
   "id": "3e395bc4-48fd-4ade-97b2-c34472541467",
   "metadata": {},
   "outputs": [],
   "source": [
    "transformer = [\n",
    "    transforms.ToTensor()]\n",
    "\n",
    "Loader  = Load(transformer)\n",
    "dataset, _ = Loader(\"..\\\\final_dataset\\\\train\\\\\")\n",
    "classes = list(dataset.class_to_idx.keys())\n",
    "\n",
    "augment_data(dataset, agmt_dict)\n",
    "\n",
    "agmt_dict = {\n",
    "    'L2_10': [('rotate', 0), ('random', )],\n",
    "    'L2_12': [('rotate', 0)],\n",
    "    'L2_15': [('rotate', 0)],\n",
    "    'L2_20': [('rotate', 0)],\n",
    "    'L2_21': [('rotate', 0)],\n",
    "    'L2_24': [('rotate', 0)],\n",
    "    'L2_25': [('rotate', 0)],\n",
    "    'L2_27': [('rotate', 0)],\n",
    "    'L2_3': [('rotate', 0)],\n",
    "    'L2_30': [('rotate', 0)],\n",
    "    'L2_33': [('rotate', 0)],\n",
    "    'L2_34': [('rotate', 0),\n",
    "    'L2_39': [('rotate', 0),\n",
    "    'L2_40': [('rotate', 0),\n",
    "    'L2_41': [('rotate', 0),\n",
    "    'L2_44': [('rotate', 0),\n",
    "    'L2_45': [('rotate', 0),\n",
    "    'L2_46': [('rotate', 0),\n",
    "    'L2_50': [('rotate', 0),\n",
    "    'L2_52': [('rotate', 0),\n",
    "}"
   ]
  }
 ],
 "metadata": {
  "kernelspec": {
   "display_name": "Python 3 (ipykernel)",
   "language": "python",
   "name": "python3"
  },
  "language_info": {
   "codemirror_mode": {
    "name": "ipython",
    "version": 3
   },
   "file_extension": ".py",
   "mimetype": "text/x-python",
   "name": "python",
   "nbconvert_exporter": "python",
   "pygments_lexer": "ipython3",
   "version": "3.9.12"
  }
 },
 "nbformat": 4,
 "nbformat_minor": 5
}
