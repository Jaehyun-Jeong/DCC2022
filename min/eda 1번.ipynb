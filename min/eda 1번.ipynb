{
 "cells": [
  {
   "cell_type": "code",
   "execution_count": 2,
   "id": "18523adb",
   "metadata": {},
   "outputs": [],
   "source": [
    "from zipfile import ZipFile\n",
    "  \n",
    "# loading the temp.zip and creating a zip object\n",
    "with ZipFile(\"A:\\DCC\\대학부 데이터셋\\dataset.zip\", 'r') as zObject:\n",
    "\n",
    "    zObject.extractall(\n",
    "        path=\"A:\\DCC\\대학부 데이터셋\\dataset\")"
   ]
  },
  {
   "cell_type": "code",
   "execution_count": 29,
   "id": "53497801",
   "metadata": {},
   "outputs": [
    {
     "name": "stdout",
     "output_type": "stream",
     "text": [
      "Searching in :  A:\\DCC\\대학부 데이터셋\\dataset\n",
      "Searching in :  A:\\DCC\\대학부 데이터셋\\dataset\\L2_10\n",
      "Searching in :  A:\\DCC\\대학부 데이터셋\\dataset\\L2_12\n",
      "Searching in :  A:\\DCC\\대학부 데이터셋\\dataset\\L2_15\n",
      "Searching in :  A:\\DCC\\대학부 데이터셋\\dataset\\L2_20\n",
      "Searching in :  A:\\DCC\\대학부 데이터셋\\dataset\\L2_21\n",
      "Searching in :  A:\\DCC\\대학부 데이터셋\\dataset\\L2_24\n",
      "Searching in :  A:\\DCC\\대학부 데이터셋\\dataset\\L2_25\n",
      "Searching in :  A:\\DCC\\대학부 데이터셋\\dataset\\L2_27\n",
      "Searching in :  A:\\DCC\\대학부 데이터셋\\dataset\\L2_3\n",
      "Searching in :  A:\\DCC\\대학부 데이터셋\\dataset\\L2_30\n",
      "Searching in :  A:\\DCC\\대학부 데이터셋\\dataset\\L2_33\n",
      "Searching in :  A:\\DCC\\대학부 데이터셋\\dataset\\L2_34\n",
      "Searching in :  A:\\DCC\\대학부 데이터셋\\dataset\\L2_39\n",
      "Searching in :  A:\\DCC\\대학부 데이터셋\\dataset\\L2_40\n",
      "Searching in :  A:\\DCC\\대학부 데이터셋\\dataset\\L2_41\n",
      "Searching in :  A:\\DCC\\대학부 데이터셋\\dataset\\L2_44\n",
      "Searching in :  A:\\DCC\\대학부 데이터셋\\dataset\\L2_45\n",
      "Searching in :  A:\\DCC\\대학부 데이터셋\\dataset\\L2_46\n",
      "Searching in :  A:\\DCC\\대학부 데이터셋\\dataset\\L2_50\n",
      "Searching in :  A:\\DCC\\대학부 데이터셋\\dataset\\L2_52\n",
      "Total number of files 25503\n",
      "Total Number of directories 20\n",
      "Total: 25523\n"
     ]
    }
   ],
   "source": [
    "import os\n",
    "APP_FOLDER = 'A:\\DCC\\대학부 데이터셋\\dataset'\n",
    "totalFiles = 0\n",
    "totalDir = 0\n",
    "for base, dirs, files in os.walk(APP_FOLDER):\n",
    "    print('Searching in : ',base)\n",
    "    for directories in dirs:\n",
    "        totalDir += 1\n",
    "    for Files in files:\n",
    "        totalFiles += 1\n",
    "\n",
    "print('Total number of files',totalFiles)\n",
    "print('Total Number of directories',totalDir)\n",
    "print('Total:',(totalDir + totalFiles))"
   ]
  },
  {
   "cell_type": "code",
   "execution_count": null,
   "id": "a2fab3a4",
   "metadata": {},
   "outputs": [],
   "source": []
  },
  {
   "cell_type": "code",
   "execution_count": 42,
   "id": "498ebb1e",
   "metadata": {},
   "outputs": [
    {
     "name": "stdout",
     "output_type": "stream",
     "text": [
      "file count: 1893\n"
     ]
    }
   ],
   "source": [
    "count = 0\n",
    "dir_path = r'A:\\DCC\\대학부 데이터셋\\dataset\\L2_10'\n",
    "for path in os.scandir(dir_path):\n",
    "    if path.is_file():\n",
    "        count += 1\n",
    "        a= count\n",
    "print('file count:', count)"
   ]
  },
  {
   "cell_type": "code",
   "execution_count": 43,
   "id": "81212b4f",
   "metadata": {},
   "outputs": [
    {
     "name": "stdout",
     "output_type": "stream",
     "text": [
      "file count: 518\n"
     ]
    }
   ],
   "source": [
    "count = 0\n",
    "dir_path = r'A:\\DCC\\대학부 데이터셋\\dataset\\L2_12'\n",
    "for path in os.scandir(dir_path):\n",
    "    if path.is_file():\n",
    "        count += 1\n",
    "print('file count:', count)"
   ]
  },
  {
   "cell_type": "code",
   "execution_count": 44,
   "id": "9057f922",
   "metadata": {},
   "outputs": [
    {
     "name": "stdout",
     "output_type": "stream",
     "text": [
      "file count: 1509\n"
     ]
    }
   ],
   "source": [
    "count = 0\n",
    "dir_path = r'A:\\DCC\\대학부 데이터셋\\dataset\\L2_15'\n",
<<<<<<< HEAD
    "for path in os.scandir(dir_path):\n",
=======
<<<<<<< HEAD
    "for path in os.scandir(dir_path):                                                                                                                                                                                                                                                                                                                                                                                                                                                                                                                                                                                                                                                                                                                                                                                                                                                                                                                                                                                                                                                                                                                                                                                                                                                                                                                                                                                                                                                                                                                                                                                                                                                                                                                                                                                                                                                                                                       \n",
=======
    "for path in os.scandir(dir_path):\n",
>>>>>>> e23f0fa (first commit)
>>>>>>> jaehyun
    "    if path.is_file():\n",
    "        count += 1\n",
    "print('file count:', count)"
   ]
  },
  {
   "cell_type": "code",
   "execution_count": 45,
   "id": "e86854f1",
   "metadata": {},
   "outputs": [
    {
     "name": "stdout",
     "output_type": "stream",
     "text": [
      "file count: 410\n"
     ]
    }
   ],
   "source": [
    "count = 0\n",
    "dir_path = r'A:\\DCC\\대학부 데이터셋\\dataset\\L2_20'\n",
    "for path in os.scandir(dir_path):\n",
    "    if path.is_file():\n",
    "        count += 1\n",
    "print('file count:', count)"
   ]
  },
  {
   "cell_type": "code",
   "execution_count": 46,
   "id": "6ccf5c8a",
   "metadata": {},
   "outputs": [
    {
     "name": "stdout",
     "output_type": "stream",
     "text": [
      "file count: 410\n"
     ]
    }
   ],
   "source": [
    "count = 0\n",
    "dir_path = r'A:\\DCC\\대학부 데이터셋\\dataset\\L2_21'\n",
    "for path in os.scandir(dir_path):\n",
    "    if path.is_file():\n",
    "        count += 1\n",
    "print('file count:', count)"
   ]
  },
  {
   "cell_type": "code",
   "execution_count": 47,
   "id": "b5c1f914",
   "metadata": {},
   "outputs": [
    {
     "name": "stdout",
     "output_type": "stream",
     "text": [
      "file count: 782\n"
     ]
    }
   ],
   "source": [
    "count = 0\n",
    "dir_path = r'A:\\DCC\\대학부 데이터셋\\dataset\\L2_24'\n",
    "for path in os.scandir(dir_path):\n",
    "    if path.is_file():\n",
    "        count += 1\n",
    "print('file count:', count)"
   ]
  },
  {
   "cell_type": "code",
   "execution_count": 48,
   "id": "e2230614",
   "metadata": {},
   "outputs": [
    {
     "name": "stdout",
     "output_type": "stream",
     "text": [
      "file count: 6189\n"
     ]
    }
   ],
   "source": [
    "count = 0\n",
    "dir_path = r'A:\\DCC\\대학부 데이터셋\\dataset\\L2_25'\n",
    "for path in os.scandir(dir_path):\n",
    "    if path.is_file():\n",
    "        count += 1\n",
    "print('file count:', count)"
   ]
  },
  {
   "cell_type": "code",
   "execution_count": 49,
   "id": "5af9b9dc",
   "metadata": {},
   "outputs": [
    {
     "name": "stdout",
     "output_type": "stream",
     "text": [
      "file count: 426\n"
     ]
    }
   ],
   "source": [
    "count = 0\n",
    "dir_path = r'A:\\DCC\\대학부 데이터셋\\dataset\\L2_27'\n",
    "for path in os.scandir(dir_path):\n",
    "    if path.is_file():\n",
    "        count += 1\n",
    "print('file count:', count)"
   ]
  },
  {
   "cell_type": "code",
   "execution_count": 50,
   "id": "f76fbcc0",
   "metadata": {},
   "outputs": [
    {
     "name": "stdout",
     "output_type": "stream",
     "text": [
      "file count: 364\n"
     ]
    }
   ],
   "source": [
    "count = 0\n",
    "dir_path = r'A:\\DCC\\대학부 데이터셋\\dataset\\L2_30'\n",
    "for path in os.scandir(dir_path):\n",
    "    if path.is_file():\n",
    "        count += 1\n",
    "print('file count:', count)"
   ]
  },
  {
   "cell_type": "code",
   "execution_count": 51,
   "id": "a0aa7c29",
   "metadata": {},
   "outputs": [
    {
     "name": "stdout",
     "output_type": "stream",
     "text": [
      "file count: 6206\n"
     ]
    }
   ],
   "source": [
    "count = 0\n",
    "dir_path = r'A:\\DCC\\대학부 데이터셋\\dataset\\L2_33'\n",
    "for path in os.scandir(dir_path):\n",
    "    if path.is_file():\n",
    "        count += 1\n",
    "print('file count:', count)"
   ]
  },
  {
   "cell_type": "code",
   "execution_count": 52,
   "id": "63b7d371",
   "metadata": {},
   "outputs": [
    {
     "name": "stdout",
     "output_type": "stream",
     "text": [
      "file count: 419\n"
     ]
    }
   ],
   "source": [
    "count = 0\n",
    "dir_path = r'A:\\DCC\\대학부 데이터셋\\dataset\\L2_34'\n",
    "for path in os.scandir(dir_path):\n",
    "    if path.is_file():\n",
    "        count += 1\n",
    "print('file count:', count)"
   ]
  },
  {
   "cell_type": "code",
   "execution_count": 53,
   "id": "9a716925",
   "metadata": {},
   "outputs": [
    {
     "name": "stdout",
     "output_type": "stream",
     "text": [
      "file count: 454\n"
     ]
    }
   ],
   "source": [
    "count = 0\n",
    "dir_path = r'A:\\DCC\\대학부 데이터셋\\dataset\\L2_39'\n",
    "for path in os.scandir(dir_path):\n",
    "    if path.is_file():\n",
    "        count += 1\n",
    "print('file count:', count)"
   ]
  },
  {
   "cell_type": "code",
   "execution_count": 54,
   "id": "9b2a8fc6",
   "metadata": {},
   "outputs": [
    {
     "name": "stdout",
     "output_type": "stream",
     "text": [
      "file count: 180\n"
     ]
    }
   ],
   "source": [
    "count = 0\n",
    "dir_path = r'A:\\DCC\\대학부 데이터셋\\dataset\\L2_40'\n",
    "for path in os.scandir(dir_path):\n",
    "    if path.is_file():\n",
    "        count += 1\n",
    "print('file count:', count)"
   ]
  },
  {
   "cell_type": "code",
   "execution_count": 55,
   "id": "1bb793d5",
   "metadata": {},
   "outputs": [
    {
     "name": "stdout",
     "output_type": "stream",
     "text": [
      "file count: 593\n"
     ]
    }
   ],
   "source": [
    "count = 0\n",
    "dir_path = r'A:\\DCC\\대학부 데이터셋\\dataset\\L2_41'\n",
    "for path in os.scandir(dir_path):\n",
    "    if path.is_file():\n",
    "        count += 1\n",
    "print('file count:', count)"
   ]
  },
  {
   "cell_type": "code",
   "execution_count": 56,
   "id": "dd244b0d",
   "metadata": {},
   "outputs": [
    {
     "name": "stdout",
     "output_type": "stream",
     "text": [
      "file count: 547\n"
     ]
    }
   ],
   "source": [
    "count = 0\n",
    "dir_path = r'A:\\DCC\\대학부 데이터셋\\dataset\\L2_44'\n",
    "for path in os.scandir(dir_path):\n",
    "    if path.is_file():\n",
    "        count += 1\n",
    "print('file count:', count)"
   ]
  },
  {
   "cell_type": "code",
   "execution_count": 57,
   "id": "c06a9296",
   "metadata": {},
   "outputs": [
    {
     "name": "stdout",
     "output_type": "stream",
     "text": [
      "file count: 631\n"
     ]
    }
   ],
   "source": [
    "count = 0\n",
    "dir_path = r'A:\\DCC\\대학부 데이터셋\\dataset\\L2_45'\n",
    "for path in os.scandir(dir_path):\n",
    "    if path.is_file():\n",
    "        count += 1\n",
    "print('file count:', count)"
   ]
  },
  {
   "cell_type": "code",
   "execution_count": 58,
   "id": "53e29d31",
   "metadata": {},
   "outputs": [
    {
     "name": "stdout",
     "output_type": "stream",
     "text": [
      "file count: 2214\n"
     ]
    }
   ],
   "source": [
    "count = 0\n",
    "dir_path = r'A:\\DCC\\대학부 데이터셋\\dataset\\L2_46'\n",
    "for path in os.scandir(dir_path):\n",
    "    if path.is_file():\n",
    "        count += 1\n",
    "print('file count:', count)"
   ]
  },
  {
   "cell_type": "code",
   "execution_count": 59,
   "id": "101db023",
   "metadata": {},
   "outputs": [
    {
     "name": "stdout",
     "output_type": "stream",
     "text": [
      "file count: 781\n"
     ]
    }
   ],
   "source": [
    "count = 0\n",
    "dir_path = r'A:\\DCC\\대학부 데이터셋\\dataset\\L2_50'\n",
    "for path in os.scandir(dir_path):\n",
    "    if path.is_file():\n",
    "        count += 1\n",
    "print('file count:', count)"
   ]
  },
  {
   "cell_type": "code",
   "execution_count": 60,
   "id": "696ae1ae",
   "metadata": {},
   "outputs": [
    {
     "name": "stdout",
     "output_type": "stream",
     "text": [
      "file count: 382\n"
     ]
    }
   ],
   "source": [
    "count = 0\n",
    "dir_path = r'A:\\DCC\\대학부 데이터셋\\dataset\\L2_52'\n",
    "for path in os.scandir(dir_path):\n",
    "    if path.is_file():\n",
    "        count += 1\n",
    "print('file count:', count)"
   ]
  },
  {
   "cell_type": "code",
   "execution_count": 61,
   "id": "753ffcfe",
   "metadata": {},
   "outputs": [
    {
     "name": "stdout",
     "output_type": "stream",
     "text": [
      "dataset\n"
     ]
    }
   ],
   "source": [
    "path = 'A:\\DCC\\대학부 데이터셋\\dataset'\n",
    "\n",
    "basename = os.path.basename(path)\n",
    "\n",
    "print(basename)"
   ]
  },
  {
   "cell_type": "code",
   "execution_count": 62,
   "id": "7241cd68",
   "metadata": {},
   "outputs": [],
   "source": [
    "FOLDER_PATH= 'A:\\DCC\\대학부 데이터셋\\dataset'\n",
    "\n",
    "def listDir(dir):\n",
    "    fileNmaes = os.listdir(dir)\n",
    "    for fileName in fileNames:\n",
    "        print('Forlder Path:' +os.path.abspath(os.path.join(dir,fileName, sep='\\n')))"
   ]
  },
  {
   "cell_type": "code",
   "execution_count": null,
   "id": "130c35bb",
   "metadata": {},
   "outputs": [],
   "source": []
  }
 ],
 "metadata": {
  "kernelspec": {
<<<<<<< HEAD
   "display_name": "Python 3",
=======
<<<<<<< HEAD
   "display_name": "Python 3 (ipykernel)",
=======
   "display_name": "Python 3",
>>>>>>> e23f0fa (first commit)
>>>>>>> jaehyun
   "language": "python",
   "name": "python3"
  },
  "language_info": {
   "codemirror_mode": {
    "name": "ipython",
    "version": 3
   },
   "file_extension": ".py",
   "mimetype": "text/x-python",
   "name": "python",
   "nbconvert_exporter": "python",
   "pygments_lexer": "ipython3",
<<<<<<< HEAD
   "version": "3.8.8"
=======
<<<<<<< HEAD
   "version": "3.10.4"
=======
   "version": "3.8.8"
>>>>>>> e23f0fa (first commit)
>>>>>>> jaehyun
  }
 },
 "nbformat": 4,
 "nbformat_minor": 5
}
