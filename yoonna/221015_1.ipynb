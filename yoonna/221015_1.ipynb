{
 "cells": [
  {
   "cell_type": "code",
   "execution_count": 7,
   "id": "0bb3b5db",
   "metadata": {},
   "outputs": [
    {
     "data": {
      "text/plain": [
       "PIL.JpegImagePlugin.JpegImageFile"
      ]
     },
     "execution_count": 7,
     "metadata": {},
     "output_type": "execute_result"
    }
   ],
   "source": [
    "from PIL import Image\n",
    "  \n",
    "# open method used to open different extension image file\n",
    "im = Image.open(r\"C:\\Users\\user\\DCC2022\\dataset\\L2_3\\abrqcpmsuamnssulgkpj.jpg\")\n",
    "type(im)"
   ]
  },
  {
   "cell_type": "code",
   "execution_count": 17,
   "id": "f46cbcb3",
   "metadata": {},
   "outputs": [],
   "source": [
    "from PIL import Image\n",
    "import os\n",
    "\n",
    "directory = r\"C:\\Users\\user\\DCC2022\\dataset\"\n",
    "\n",
    "for filename in os.listdir(directory):\n",
    "    if filename.endswith(\".jpg\"):\n",
    "        im = Image.open(filename)\n",
    "        im.save('filename.png')\n",
    "        print(os.path.join(directory, filename))\n",
    "        continue\n",
    "    else:\n",
    "        continue"
   ]
  },
  {
   "cell_type": "code",
   "execution_count": 29,
   "id": "3667d4c3",
   "metadata": {},
   "outputs": [
    {
     "ename": "SyntaxError",
     "evalue": "(unicode error) 'unicodeescape' codec can't decode bytes in position 2-3: truncated \\UXXXXXXXX escape (1113083527.py, line 10)",
     "output_type": "error",
     "traceback": [
      "\u001b[1;36m  Input \u001b[1;32mIn [29]\u001b[1;36m\u001b[0m\n\u001b[1;33m    os.path.basename('C:\\Users\\user\\DCC2022\\dataset')\u001b[0m\n\u001b[1;37m                                                    ^\u001b[0m\n\u001b[1;31mSyntaxError\u001b[0m\u001b[1;31m:\u001b[0m (unicode error) 'unicodeescape' codec can't decode bytes in position 2-3: truncated \\UXXXXXXXX escape\n"
     ]
    }
   ],
   "source": [
    "import os\n",
    "class_dict = {}\n",
    "\n",
    "for class_name in os.listdir(directory):\n",
    "    class_lst = []\n",
    "    for filename in os.listdir(directory + '\\\\' + class_name):\n",
    "        class_lst.append(filename)\n",
    "    class_dict[class_name] = class_lst\n",
    "    \n",
    "os.path.basename('C:\\Users\\user\\DCC2022\\dataset')\n"
   ]
  },
  {
   "cell_type": "code",
   "execution_count": 20,
   "id": "90993da5",
   "metadata": {},
   "outputs": [
    {
     "name": "stdout",
     "output_type": "stream",
     "text": [
      "['lzdkkryfcdgirbwbyhfh.jpg', 'imoaxqjconakptcfyzem.jpg', 'pzpharhnjsqsrcqjbymu.jpg', 'dfnzqeultwftajjmsnsj.jpg', 'fqnyeuznumeqwtdwrnly.jpg', 'wlpviwksncybkjzzqzta.jpg', 'cyznnarmrnpnoinokrwm.jpg', 'eimgpdyonksoemelgaex.jpg', 'rthnbpevuvdwvekzilif.jpg', 'aeqihwaxgbzcxekocyuh.png']\n"
     ]
    },
    {
     "data": {
      "text/plain": [
       "['lzdkkryfcdgirbwbyhfh.jpg',\n",
       " 'imoaxqjconakptcfyzem.jpg',\n",
       " 'pzpharhnjsqsrcqjbymu.jpg',\n",
       " 'dfnzqeultwftajjmsnsj.jpg',\n",
       " 'fqnyeuznumeqwtdwrnly.jpg',\n",
       " 'wlpviwksncybkjzzqzta.jpg',\n",
       " 'cyznnarmrnpnoinokrwm.jpg',\n",
       " 'eimgpdyonksoemelgaex.jpg',\n",
       " 'rthnbpevuvdwvekzilif.jpg',\n",
       " 'aeqihwaxgbzcxekocyuh.png']"
      ]
     },
     "metadata": {},
     "output_type": "display_data"
    }
   ],
   "source": [
    "import random\n",
    "\n",
    "img_name = random.sample((class_dict['L2_52']),10)\n",
    "\n",
    "print(img_name)\n",
    "display(img_name)"
   ]
  },
  {
   "cell_type": "code",
   "execution_count": 11,
   "id": "b8d3390d",
   "metadata": {},
   "outputs": [],
   "source": [
    "from PIL import Image\n",
    "def pil_loader(path: str) -> Image.Image:\n",
    "    # open path as file to avoid ResourceWarning (https://github.com/python-pillow/Pillow/issues/835)\n",
    "    with open(path, \"rb\") as f:\n",
    "        img = Image.open(f)\n",
    "        return img.convert(\"RGB\")\n",
    "\n",
    "imgLst = []\n",
    "for filename in img_name:\n",
    "    img = pil_loader(os.path.join(directory, 'L2_52', filename))\n",
    "    imgLst.append(img)"
   ]
  },
  {
   "cell_type": "code",
   "execution_count": 12,
   "id": "77ef3c96",
   "metadata": {},
   "outputs": [
    {
     "data": {
      "text/plain": [
       "[<PIL.Image.Image image mode=RGB size=2480x3508>,\n",
       " <PIL.Image.Image image mode=RGB size=2480x3508>,\n",
       " <PIL.Image.Image image mode=RGB size=300x300>,\n",
       " <PIL.Image.Image image mode=RGB size=700x700>,\n",
       " <PIL.Image.Image image mode=RGB size=1200x1200>,\n",
       " <PIL.Image.Image image mode=RGB size=300x300>,\n",
       " <PIL.Image.Image image mode=RGB size=700x700>,\n",
       " <PIL.Image.Image image mode=RGB size=3508x2480>,\n",
       " <PIL.Image.Image image mode=RGB size=2480x3508>,\n",
       " <PIL.Image.Image image mode=RGB size=700x700>]"
      ]
     },
     "execution_count": 12,
     "metadata": {},
     "output_type": "execute_result"
    }
   ],
   "source": [
    "imgLst"
   ]
  },
  {
   "cell_type": "code",
   "execution_count": null,
   "id": "e8cb88e0",
   "metadata": {},
   "outputs": [],
   "source": []
  }
 ],
 "metadata": {
  "kernelspec": {
   "display_name": "Python 3 (ipykernel)",
   "language": "python",
   "name": "python3"
  },
  "language_info": {
   "codemirror_mode": {
    "name": "ipython",
    "version": 3
   },
   "file_extension": ".py",
   "mimetype": "text/x-python",
   "name": "python",
   "nbconvert_exporter": "python",
   "pygments_lexer": "ipython3",
   "version": "3.10.4"
  }
 },
 "nbformat": 4,
 "nbformat_minor": 5
}
