{
 "cells": [
  {
   "cell_type": "code",
   "execution_count": 4,
   "id": "f0a50b85",
   "metadata": {},
   "outputs": [
    {
     "ename": "SyntaxError",
     "evalue": "(unicode error) 'unicodeescape' codec can't decode bytes in position 2-3: truncated \\UXXXXXXXX escape (2092899299.py, line 5)",
     "output_type": "error",
     "traceback": [
      "\u001b[1;36m  Input \u001b[1;32mIn [4]\u001b[1;36m\u001b[0m\n\u001b[1;33m    directory = \"C:\\Users\\user\\DCC2022\\dataset\"\u001b[0m\n\u001b[1;37m                                               ^\u001b[0m\n\u001b[1;31mSyntaxError\u001b[0m\u001b[1;31m:\u001b[0m (unicode error) 'unicodeescape' codec can't decode bytes in position 2-3: truncated \\UXXXXXXXX escape\n"
     ]
    }
   ],
   "source": [
    "from PIL import Image\n",
    "import os\n",
    "import random\n",
    "\n",
    "directory = \"C:\\Users\\user\\DCC2022\\dataset\"\n",
    "\n",
    "subfolders= [f.path for f in os.scandir(directory) if f.is_dir()]\n",
    "\n",
    "which_folder = random.choice(subfolders)\n",
    "which_folder"
   ]
  },
  {
   "cell_type": "code",
   "execution_count": 2,
   "id": "7c8d93a9",
   "metadata": {},
   "outputs": [
    {
     "ename": "NameError",
     "evalue": "name 'which_folder' is not defined",
     "output_type": "error",
     "traceback": [
      "\u001b[1;31m---------------------------------------------------------------------------\u001b[0m",
      "\u001b[1;31mNameError\u001b[0m                                 Traceback (most recent call last)",
      "Input \u001b[1;32mIn [2]\u001b[0m, in \u001b[0;36m<cell line: 15>\u001b[1;34m()\u001b[0m\n\u001b[0;32m     11\u001b[0m         loadedImages\u001b[38;5;241m.\u001b[39mappend(img)\n\u001b[0;32m     13\u001b[0m     \u001b[38;5;28;01mreturn\u001b[39;00m loadedImages\n\u001b[1;32m---> 15\u001b[0m path \u001b[38;5;241m=\u001b[39m \u001b[43mwhich_folder\u001b[49m\n\u001b[0;32m     17\u001b[0m \u001b[38;5;66;03m# your images in an array\u001b[39;00m\n\u001b[0;32m     18\u001b[0m imgs \u001b[38;5;241m=\u001b[39m loadImages(path)\n",
      "\u001b[1;31mNameError\u001b[0m: name 'which_folder' is not defined"
     ]
    }
   ],
   "source": [
    "from os import listdir\n",
    "\n",
    "\n",
    "def loadImages(path):\n",
    "    # return array of images\n",
    "\n",
    "    imagesList = listdir(path)\n",
    "    loadedImages = []\n",
    "    for image in imagesList:\n",
    "        img = Image.open(path + image)\n",
    "        loadedImages.append(img)\n",
    "\n",
    "    return loadedImages\n",
    "\n",
    "path = which_folder\n",
    "\n",
    "# your images in an array\n",
    "imgs = loadImages(path)\n",
    "\n",
    "for img in imgs:\n",
    "    # you can show every image\n",
    "    img.show()"
   ]
  },
  {
   "cell_type": "code",
   "execution_count": null,
   "id": "88c26228",
   "metadata": {},
   "outputs": [],
   "source": []
  }
 ],
 "metadata": {
  "kernelspec": {
   "display_name": "Python 3 (ipykernel)",
   "language": "python",
   "name": "python3"
  },
  "language_info": {
   "codemirror_mode": {
    "name": "ipython",
    "version": 3
   },
   "file_extension": ".py",
   "mimetype": "text/x-python",
   "name": "python",
   "nbconvert_exporter": "python",
   "pygments_lexer": "ipython3",
   "version": "3.10.4"
  }
 },
 "nbformat": 4,
 "nbformat_minor": 5
}
